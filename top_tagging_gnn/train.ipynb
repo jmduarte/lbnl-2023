{
 "cells": [
  {
   "cell_type": "code",
   "execution_count": 2,
   "metadata": {},
   "outputs": [],
   "source": [
    "import glob\n",
    "\n",
    "import numpy as np\n",
    "\n",
    "import torch\n",
    "import torch.nn as nn\n",
    "from torch_geometric.loader import DataLoader\n",
    "\n",
    "from itertools import cycle\n",
    "from sklearn.metrics import roc_curve, auc\n",
    "%matplotlib inline\n",
    "\n",
    "import matplotlib\n",
    "import matplotlib.pyplot as plt\n",
    "import matplotlib.colors as mcolors\n",
    "import mplhep as hep\n",
    "plt.style.use(hep.style.CMS)\n",
    "plt.rcParams.update({'font.size': 20})\n",
    "\n",
    "from tqdm.notebook import tqdm\n",
    "\n",
    "from torch_geometric.explain import Explainer, GNNExplainer\n",
    "\n",
    "import xai4hep"
   ]
  },
  {
   "cell_type": "markdown",
   "metadata": {},
   "source": [
    "# Get dataset"
   ]
  },
  {
   "cell_type": "code",
   "execution_count": 3,
   "metadata": {},
   "outputs": [
    {
     "name": "stdout",
     "output_type": "stream",
     "text": [
      "--- loaded file 0 from `test` directory\n"
     ]
    }
   ],
   "source": [
    "# load the datafiles\n",
    "def load_data(dataset_path, flag, n_files=-1):\n",
    "    data_files = glob.glob(f\"{dataset_path}/{flag}/processed/*\")\n",
    "        \n",
    "    data = []\n",
    "    for i, file in enumerate(data_files):\n",
    "        data += torch.load(f\"{dataset_path}/{flag}/processed/data_{i}.pt\")\n",
    "        print(f\"--- loaded file {i} from `{flag}` directory\")\n",
    "        if n_files!=-1 and i==n_files-1:\n",
    "            break\n",
    "                \n",
    "    return data\n",
    "\n",
    "dataset_path = \"/xai4hepvol/atlas/\"\n",
    "\n",
    "dataset = load_data(dataset_path, \"test\", n_files=1)  # use test directory because it contains subjet info"
   ]
  },
  {
   "cell_type": "code",
   "execution_count": 11,
   "metadata": {},
   "outputs": [
    {
     "data": {
      "text/plain": [
       "[Data(x=[17, 7], y=0, px=[17], py=[17], pz=[17], E=[17]),\n",
       " Data(x=[61, 7], y=0, px=[61], py=[61], pz=[61], E=[61]),\n",
       " Data(x=[45, 7], y=0, px=[45], py=[45], pz=[45], E=[45]),\n",
       " Data(x=[74, 7], y=0, px=[74], py=[74], pz=[74], E=[74]),\n",
       " Data(x=[30, 7], y=0, px=[30], py=[30], pz=[30], E=[30]),\n",
       " Data(x=[37, 7], y=0, px=[37], py=[37], pz=[37], E=[37]),\n",
       " Data(x=[79, 7], y=0, px=[79], py=[79], pz=[79], E=[79]),\n",
       " Data(x=[41, 7], y=0, px=[41], py=[41], pz=[41], E=[41]),\n",
       " Data(x=[92, 7], y=0, px=[92], py=[92], pz=[92], E=[92]),\n",
       " Data(x=[17, 7], y=0, px=[17], py=[17], pz=[17], E=[17])]"
      ]
     },
     "execution_count": 11,
     "metadata": {},
     "output_type": "execute_result"
    }
   ],
   "source": [
    "dataset[:10]"
   ]
  },
  {
   "cell_type": "code",
   "execution_count": 14,
   "metadata": {},
   "outputs": [
    {
     "data": {
      "text/plain": [
       "tensor([[-1.9442e-02,  9.3275e-02,  5.3207e+00,  5.3862e+00, -1.0834e+00,\n",
       "         -1.0833e+00,  9.5280e-02],\n",
       "        [ 5.8873e-03, -3.4971e-02,  4.9779e+00,  5.0347e+00, -1.4262e+00,\n",
       "         -1.4347e+00,  3.5463e-02],\n",
       "        [ 2.7067e-02, -2.2574e-02,  4.2899e+00,  4.3400e+00, -2.1142e+00,\n",
       "         -2.1295e+00,  3.5245e-02],\n",
       "        [ 3.8218e-02, -2.3472e-02,  4.1150e+00,  4.1617e+00, -2.2891e+00,\n",
       "         -2.3078e+00,  4.4851e-02],\n",
       "        [-5.3362e-03, -3.5016e-02,  3.9994e+00,  4.0600e+00, -2.4047e+00,\n",
       "         -2.4095e+00,  3.5420e-02],\n",
       "        [ 1.7531e-02, -2.8692e-02,  3.5385e+00,  3.5916e+00, -2.8656e+00,\n",
       "         -2.8778e+00,  3.3624e-02],\n",
       "        [ 2.0561e-01, -6.5708e-01,  2.3877e+00,  2.3976e+00, -4.0164e+00,\n",
       "         -4.0719e+00,  6.8849e-01],\n",
       "        [-8.0407e-02, -2.2516e-02,  1.5615e+00,  1.6500e+00, -4.8426e+00,\n",
       "         -4.8195e+00,  8.3500e-02],\n",
       "        [-9.8348e-02, -6.3129e-02,  1.5044e+00,  1.6002e+00, -4.8997e+00,\n",
       "         -4.8693e+00,  1.1687e-01],\n",
       "        [ 1.0322e-02,  4.4438e-02,  1.4010e+00,  1.4564e+00, -5.0031e+00,\n",
       "         -5.0130e+00,  4.5621e-02],\n",
       "        [ 1.0880e-01, -8.5888e-02,  1.3069e+00,  1.3349e+00, -5.0971e+00,\n",
       "         -5.1346e+00,  1.3861e-01],\n",
       "        [-2.1941e-01, -1.2614e-01,  5.3640e-01,  6.8860e-01, -5.8677e+00,\n",
       "         -5.7809e+00,  2.5308e-01],\n",
       "        [ 4.0096e-02, -3.6852e-02,  4.8631e-01,  5.3251e-01, -5.9178e+00,\n",
       "         -5.9370e+00,  5.4459e-02],\n",
       "        [-3.4133e-01, -5.3426e-01,  4.0610e-01,  6.2600e-01, -5.9980e+00,\n",
       "         -5.8435e+00,  6.3399e-01],\n",
       "        [-4.3246e-01,  1.9169e-01,  3.5553e-03,  2.8040e-01, -6.4005e+00,\n",
       "         -6.1891e+00,  4.7305e-01],\n",
       "        [-5.7424e-01, -2.0188e-01, -9.1176e-02,  2.8354e-01, -6.4953e+00,\n",
       "         -6.1859e+00,  6.0870e-01],\n",
       "        [-1.2078e-01,  5.0740e-01, -8.0296e-01, -6.9759e-01, -7.2071e+00,\n",
       "         -7.1671e+00,  5.2158e-01]])"
      ]
     },
     "execution_count": 14,
     "metadata": {},
     "output_type": "execute_result"
    }
   ],
   "source": [
    "dataset[0].x"
   ]
  },
  {
   "cell_type": "code",
   "execution_count": 6,
   "metadata": {},
   "outputs": [],
   "source": [
    "loader = DataLoader(dataset, batch_size=32)"
   ]
  },
  {
   "cell_type": "markdown",
   "metadata": {},
   "source": [
    "# Get model"
   ]
  },
  {
   "cell_type": "code",
   "execution_count": 7,
   "metadata": {},
   "outputs": [
    {
     "data": {
      "text/plain": [
       "ParticleNet(\n",
       "  (edge_conv_block): EdgeConvBlock(\n",
       "    (edge_conv): EdgeConv(nn=Sequential(\n",
       "      (0): Linear(in_features=14, out_features=256, bias=True)\n",
       "      (1): BatchNorm1d(256, eps=1e-05, momentum=0.1, affine=True, track_running_stats=True)\n",
       "      (2): ReLU()\n",
       "      (3): Linear(in_features=256, out_features=256, bias=True)\n",
       "      (4): BatchNorm1d(256, eps=1e-05, momentum=0.1, affine=True, track_running_stats=True)\n",
       "      (5): ReLU()\n",
       "      (6): Linear(in_features=256, out_features=256, bias=True)\n",
       "      (7): BatchNorm1d(256, eps=1e-05, momentum=0.1, affine=True, track_running_stats=True)\n",
       "      (8): ReLU()\n",
       "      (9): Linear(in_features=256, out_features=256, bias=True)\n",
       "      (10): BatchNorm1d(256, eps=1e-05, momentum=0.1, affine=True, track_running_stats=True)\n",
       "      (11): ReLU()\n",
       "    ))\n",
       "  )\n",
       "  (fc1): Linear(in_features=263, out_features=256, bias=True)\n",
       "  (fc2): Linear(in_features=256, out_features=1, bias=True)\n",
       "  (sig): Sigmoid()\n",
       ")"
      ]
     },
     "execution_count": 7,
     "metadata": {},
     "output_type": "execute_result"
    }
   ],
   "source": [
    "# the actual particlenet model can be imported via `xai4hep.particlenet import ParticleNet`\n",
    "# the model is below is a simplified one\n",
    "\n",
    "import torch.nn.functional as F\n",
    "from torch import Tensor\n",
    "from torch_cluster import knn_graph\n",
    "from torch_geometric.nn import global_mean_pool\n",
    "from torch_geometric.nn.conv import MessagePassing, EdgeConv\n",
    "from torch_geometric.typing import Adj, PairTensor\n",
    "\n",
    "\n",
    "class EdgeConvBlock(nn.Module):\n",
    "    def __init__(self, in_size, layer_size, depth):\n",
    "        super(EdgeConvBlock, self).__init__()\n",
    "\n",
    "        layers = []\n",
    "\n",
    "        layers.append(nn.Linear(in_size * 2, layer_size))\n",
    "        layers.append(nn.BatchNorm1d(layer_size))\n",
    "        layers.append(nn.ReLU())\n",
    "\n",
    "        for i in range(depth):\n",
    "            layers.append(nn.Linear(layer_size, layer_size))\n",
    "            layers.append(nn.BatchNorm1d(layer_size))\n",
    "            layers.append(nn.ReLU())\n",
    "\n",
    "        self.edge_conv = EdgeConv(nn.Sequential(*layers), aggr=\"mean\")\n",
    "\n",
    "    def forward(self, x, edge_index):\n",
    "        return self.edge_conv(x, edge_index)\n",
    "\n",
    "\n",
    "class ParticleNet(nn.Module):\n",
    "    def __init__(\n",
    "        self,\n",
    "        node_feat_size,\n",
    "        num_classes=1,\n",
    "        depth=1,\n",
    "    ):\n",
    "        super(ParticleNet, self).__init__()\n",
    "\n",
    "        self.node_feat_size = node_feat_size\n",
    "        self.num_classes = num_classes\n",
    "\n",
    "        self.fc_size = 256\n",
    "\n",
    "        # define the edgeconvblocks\n",
    "        self.edge_conv_block = EdgeConvBlock(node_feat_size, 256, depth=depth)\n",
    "\n",
    "        # define the fully connected networks (post-edgeconvs)\n",
    "        self.fc1 = nn.Linear(node_feat_size + 256, self.fc_size)\n",
    "        self.fc2 = nn.Linear(self.fc_size, self.num_classes)\n",
    "\n",
    "        self.sig = nn.Sigmoid()\n",
    "\n",
    "    def forward(self, x, edge_index, batch=None):\n",
    "\n",
    "        # input transformations\n",
    "        x[:, 2] = (x[:, 2] - 1.7) * 0.7  # part_pt_log\n",
    "        x[:, 3] = (x[:, 3] - 2.0) * 0.7  # part_e_log\n",
    "        x[:, 4] = (x[:, 4] + 4.7) * 0.7  # part_logptrel\n",
    "        x[:, 5] = (x[:, 5] + 4.7) * 0.7  # part_logerel\n",
    "        x[:, 6] = (x[:, 6] - 0.2) * 4.7  # part_deltaR\n",
    "\n",
    "        # useful placeholders for LRP studies\n",
    "        out = self.edge_conv_block(x, edge_index)\n",
    "        x = torch.cat((out, x), dim=1)  # concatenating with latent features i.e. skip connections per EdgeConvBlock\n",
    "\n",
    "        if batch is None:\n",
    "            x = x.sum(axis=0)\n",
    "        else:\n",
    "            x = global_mean_pool(x, batch)\n",
    "\n",
    "        x = F.relu(self.fc1(x))\n",
    "        x = self.fc2(x)\n",
    "        x = self.sig(x)\n",
    "\n",
    "        return x\n",
    "    \n",
    "# setup the input/output dimension of the model\n",
    "k = 12\n",
    "\n",
    "model_kwargs = {\n",
    "    \"node_feat_size\": 7,\n",
    "    \"num_classes\": 1,\n",
    "    \"depth\": 3,\n",
    "}\n",
    "\n",
    "model = ParticleNet(**model_kwargs)\n",
    "model.train()    "
   ]
  },
  {
   "cell_type": "code",
   "execution_count": 8,
   "metadata": {
    "scrolled": true
   },
   "outputs": [
    {
     "name": "stdout",
     "output_type": "stream",
     "text": [
      "loss: 0.7387263774871826\n",
      "loss: 0.6153301000595093\n",
      "loss: 1.2011899948120117\n",
      "loss: 0.8065020442008972\n",
      "loss: 0.5423919558525085\n",
      "loss: 0.9653017520904541\n",
      "loss: 0.5442942380905151\n",
      "loss: 0.6133830547332764\n",
      "loss: 0.6030188798904419\n",
      "loss: 0.6411558985710144\n",
      "loss: 0.5059248805046082\n",
      "loss: 0.5736091732978821\n",
      "loss: 0.8269460201263428\n",
      "loss: 0.4576290249824524\n",
      "loss: 0.6269748210906982\n",
      "loss: 0.43325376510620117\n",
      "loss: 0.47080132365226746\n",
      "loss: 0.4776673913002014\n",
      "loss: 0.4081125557422638\n",
      "loss: 0.34872135519981384\n",
      "loss: 0.44906920194625854\n",
      "loss: 0.29641079902648926\n",
      "loss: 0.3514522612094879\n",
      "loss: 0.5951082706451416\n",
      "loss: 0.3914589285850525\n",
      "loss: 0.7472541928291321\n",
      "loss: 0.3510058522224426\n",
      "loss: 0.28137636184692383\n",
      "loss: 0.438587486743927\n",
      "loss: 1.0826973915100098\n",
      "loss: 0.29676932096481323\n",
      "loss: 0.8150878548622131\n",
      "loss: 0.5657740235328674\n",
      "loss: 0.5706120729446411\n",
      "loss: 0.7736676931381226\n",
      "loss: 0.8749973773956299\n",
      "loss: 0.41277119517326355\n",
      "loss: 0.42830124497413635\n",
      "loss: 0.27215251326560974\n",
      "loss: 0.35759902000427246\n",
      "loss: 0.5938524007797241\n",
      "loss: 0.607750654220581\n",
      "loss: 0.4454614818096161\n",
      "loss: 0.25518155097961426\n",
      "loss: 0.6058343052864075\n",
      "loss: 0.6761203408241272\n",
      "loss: 0.5067901611328125\n",
      "loss: 0.3356275260448456\n",
      "loss: 0.3863845765590668\n",
      "loss: 0.6393646001815796\n",
      "loss: 0.40538856387138367\n",
      "loss: 0.4104970395565033\n",
      "loss: 0.6938007473945618\n",
      "loss: 0.3557000756263733\n",
      "loss: 0.3213386833667755\n",
      "loss: 0.4293585419654846\n",
      "loss: 0.7358869314193726\n",
      "loss: 0.9074487686157227\n",
      "loss: 0.9458975195884705\n",
      "loss: 0.4729810953140259\n",
      "loss: 0.3571425676345825\n",
      "loss: 0.32530927658081055\n",
      "loss: 0.5346409678459167\n",
      "loss: 0.5642726421356201\n",
      "loss: 0.48869648575782776\n",
      "loss: 0.6627898216247559\n",
      "loss: 0.6130288243293762\n",
      "loss: 0.3323390483856201\n",
      "loss: 0.3455597460269928\n",
      "loss: 0.5099599361419678\n",
      "loss: 0.31423118710517883\n",
      "loss: 0.4836811125278473\n",
      "loss: 0.31134748458862305\n",
      "loss: 0.4737494885921478\n",
      "loss: 0.43738722801208496\n",
      "loss: 0.4094395041465759\n",
      "loss: 0.42842477560043335\n",
      "loss: 0.2548690736293793\n",
      "loss: 0.3928036689758301\n",
      "loss: 0.3221002221107483\n",
      "loss: 0.42818066477775574\n",
      "loss: 0.4947126507759094\n",
      "loss: 0.24540704488754272\n",
      "loss: 0.33866432309150696\n",
      "loss: 1.269826889038086\n",
      "loss: 0.47662732005119324\n",
      "loss: 0.8844623565673828\n",
      "loss: 0.43006962537765503\n",
      "loss: 0.48448601365089417\n",
      "loss: 0.5012381672859192\n",
      "loss: 0.34777361154556274\n",
      "loss: 0.34809789061546326\n",
      "loss: 0.3583414554595947\n",
      "loss: 0.30919429659843445\n",
      "loss: 0.30852431058883667\n",
      "loss: 0.5360928773880005\n",
      "loss: 0.5085117816925049\n",
      "loss: 0.3538020849227905\n",
      "loss: 0.9194474816322327\n",
      "loss: 0.28016990423202515\n",
      "loss: 0.3501831889152527\n"
     ]
    }
   ],
   "source": [
    "# train the model\n",
    "def train(loader, model, idx=100):\n",
    "    criterion = nn.BCELoss()\n",
    "    optimizer = torch.optim.Adam(model.parameters(), lr=1e-3)\n",
    "\n",
    "    for i, batch in enumerate(loader):\n",
    "\n",
    "        edge_index = knn_graph(batch.x[:, :2], k, batch.batch)\n",
    "\n",
    "        preds = model(batch.x, edge_index, batch.batch)\n",
    "\n",
    "        # compute the invariance loss which is contrained by the other loss terms\n",
    "        loss = criterion(preds, batch.y.unsqueeze(-1).float())\n",
    "\n",
    "        # backprop\n",
    "        for param in model.parameters():\n",
    "            param.grad = None\n",
    "        loss.backward()\n",
    "        optimizer.step()\n",
    "\n",
    "        optimizer.step()\n",
    "        print(f\"loss on batch {i}: {loss.detach()}\")\n",
    "\n",
    "        if i == idx:\n",
    "            break\n",
    "\n",
    "train(loader, model, idx=100)"
   ]
  },
  {
   "cell_type": "code",
   "execution_count": 9,
   "metadata": {},
   "outputs": [
    {
     "data": {
      "text/plain": [
       "271105"
      ]
     },
     "execution_count": 9,
     "metadata": {},
     "output_type": "execute_result"
    }
   ],
   "source": [
    "def count_parameters(model):\n",
    "    return sum(p.numel() for p in model.parameters() if p.requires_grad)\n",
    "\n",
    "count_parameters(model)"
   ]
  },
  {
   "cell_type": "code",
   "execution_count": 10,
   "metadata": {
    "scrolled": false
   },
   "outputs": [
    {
     "data": {
      "text/plain": [
       "<matplotlib.legend.Legend at 0x7f7a1e6c9180>"
      ]
     },
     "execution_count": 10,
     "metadata": {},
     "output_type": "execute_result"
    },
    {
     "data": {
      "image/png": "[encoded data removed]",
      "text/plain": [
       "<Figure size 700x600 with 1 Axes>"
      ]
     },
     "metadata": {},
     "output_type": "display_data"
    }
   ],
   "source": [
    "# test\n",
    "targets_ = []\n",
    "preds_ = []\n",
    "for i, batch in enumerate(loader):\n",
    "    edge_index = knn_graph(batch.x[:, :2], k)\n",
    "\n",
    "    preds_ += model(batch.x, edge_index, batch.batch).tolist()\n",
    "    targets_ += batch.y.tolist()\n",
    "    \n",
    "    if i==100:\n",
    "        break\n",
    "\n",
    "fig, ax = plt.subplots(figsize=[7,6])\n",
    "\n",
    "fpr, tpr, _ = roc_curve(targets_, preds_)\n",
    "ax.plot(\n",
    "    tpr,\n",
    "    fpr,\n",
    "    color=\"darkorange\",\n",
    "    lw=2,\n",
    "    label=f\"PN: AUC = {round(auc(fpr, tpr)*100,2)}%\",\n",
    ")\n",
    "\n",
    "# plt.xlim([0.0, 1.0])\n",
    "plt.ylabel(\"False Positive Rate\")\n",
    "plt.xlabel(\"True Positive Rate\")\n",
    "plt.yscale(\"log\")\n",
    "plt.legend()"
   ]
  },
  {
   "cell_type": "markdown",
   "metadata": {},
   "source": [
    "# GNNExplainer"
   ]
  },
  {
   "cell_type": "code",
   "execution_count": 11,
   "metadata": {},
   "outputs": [],
   "source": [
    "xai_loader = DataLoader(dataset, batch_size=1)"
   ]
  },
  {
   "cell_type": "code",
   "execution_count": 12,
   "metadata": {
    "scrolled": true
   },
   "outputs": [
    {
     "name": "stdout",
     "output_type": "stream",
     "text": [
      "# 0\n",
      "# 1\n",
      "# 2\n",
      "# 3\n",
      "# 4\n",
      "# 5\n",
      "# 6\n",
      "# 7\n",
      "# 8\n",
      "# 9\n",
      "# 10\n",
      "# 11\n",
      "# 12\n",
      "# 13\n",
      "# 14\n",
      "# 15\n",
      "# 16\n",
      "# 17\n",
      "# 18\n",
      "# 19\n"
     ]
    },
    {
     "name": "stderr",
     "output_type": "stream",
     "text": [
      "/Users/fmokhtar/miniforge3/envs/test/lib/python3.9/site-packages/torch_geometric/explain/explainer.py:189: UserWarning: The 'target' should not be provided for the explanation type 'model'\n",
      "  warnings.warn(\n"
     ]
    },
    {
     "name": "stdout",
     "output_type": "stream",
     "text": [
      "# 20\n",
      "# 21\n",
      "# 22\n",
      "# 23\n",
      "# 24\n",
      "# 25\n",
      "# 26\n",
      "# 27\n",
      "# 28\n",
      "# 29\n",
      "# 30\n",
      "# 31\n",
      "# 32\n",
      "# 33\n",
      "# 34\n",
      "# 35\n",
      "# 36\n",
      "# 37\n",
      "# 38\n",
      "# 39\n",
      "# 40\n",
      "# 41\n",
      "# 42\n",
      "# 43\n",
      "# 44\n",
      "# 45\n",
      "# 46\n",
      "# 47\n",
      "# 48\n",
      "# 49\n",
      "# 50\n",
      "# 51\n",
      "# 52\n",
      "# 53\n",
      "# 54\n",
      "# 55\n",
      "# 56\n",
      "# 57\n",
      "# 58\n",
      "# 59\n",
      "# 60\n",
      "# 61\n",
      "# 62\n",
      "# 63\n",
      "# 64\n",
      "# 65\n",
      "# 66\n",
      "# 67\n",
      "# 68\n",
      "# 69\n",
      "# 70\n",
      "# 71\n",
      "# 72\n",
      "# 73\n",
      "# 74\n",
      "# 75\n",
      "# 76\n",
      "# 77\n",
      "# 78\n",
      "# 79\n",
      "# 80\n",
      "# 81\n",
      "# 82\n",
      "# 83\n",
      "# 84\n",
      "# 85\n",
      "# 86\n",
      "# 87\n",
      "# 88\n",
      "# 89\n",
      "# 90\n",
      "# 91\n",
      "# 92\n",
      "# 93\n",
      "# 94\n",
      "# 95\n",
      "# 96\n",
      "# 97\n",
      "# 98\n",
      "# 99\n",
      "# 100\n"
     ]
    }
   ],
   "source": [
    "explainer = Explainer(\n",
    "    model=model,\n",
    "    algorithm=GNNExplainer(epochs=0, lr=0.003),\n",
    "    explanation_type='model',\n",
    "    edge_mask_type='object',\n",
    "    model_config=dict(\n",
    "        mode='binary_classification',\n",
    "        task_level='graph',\n",
    "        return_type='raw',\n",
    "    ),\n",
    "    # Include only the top 10 most important edges:\n",
    "#     threshold_config=dict(threshold_type='topk', value=15),\n",
    ")\n",
    "\n",
    "out = {}\n",
    "out[\"trained\"] = {}\n",
    "out[\"trained\"][\"Top\"], out[\"trained\"][\"QCD\"] = [], []\n",
    "\n",
    "for i, batch in enumerate(xai_loader):\n",
    "    print(f\"# {i}\")\n",
    "    \n",
    "    batch.edge_index = knn_graph(batch.x[:, :2], k)\n",
    "\n",
    "    explanation = explainer(batch.x, batch.edge_index, target=batch.y)\n",
    "    if batch.y==1:\n",
    "        out[\"trained\"][\"Top\"] += explanation.edge_mask.tolist()        \n",
    "    else:\n",
    "        out[\"trained\"][\"QCD\"] += explanation.edge_mask.tolist() \n",
    "        \n",
    "    if i==100:\n",
    "        break"
   ]
  },
  {
   "cell_type": "code",
   "execution_count": 15,
   "metadata": {},
   "outputs": [
    {
     "data": {
      "text/plain": [
       "<matplotlib.legend.Legend at 0x1d220ffd0>"
      ]
     },
     "execution_count": 15,
     "metadata": {},
     "output_type": "execute_result"
    },
    {
     "data": {
      "image/png": "[encoded data removed]",
      "text/plain": [
       "<Figure size 700x600 with 1 Axes>"
      ]
     },
     "metadata": {},
     "output_type": "display_data"
    }
   ],
   "source": [
    "fig, ax = plt.subplots(figsize=[7,6])\n",
    "\n",
    "ax.hist(out[\"trained\"][\"QCD\"], bins=np.linspace(0,1,30), label=f\"QCD\", density=True)\n",
    "ax.hist(out[\"trained\"][\"Top\"], bins=np.linspace(0,1,30), label=f\"Top\", density=True)\n",
    "\n",
    "# plt.xlim([0.0, 1.0])\n",
    "plt.ylabel(\"Counts\")\n",
    "plt.xlabel(\"Edge relevance\")\n",
    "# plt.yscale(\"log\")\n",
    "plt.legend(title=\"Trained model\")"
   ]
  }
 ],
 "metadata": {
  "kernelspec": {
   "display_name": "base",
   "language": "python",
   "name": "python3"
  },
  "language_info": {
   "codemirror_mode": {
    "name": "ipython",
    "version": 3
   },
   "file_extension": ".py",
   "mimetype": "text/x-python",
   "name": "python",
   "nbconvert_exporter": "python",
   "pygments_lexer": "ipython3",
   "version": "3.10.12"
  }
 },
 "nbformat": 4,
 "nbformat_minor": 4
}
