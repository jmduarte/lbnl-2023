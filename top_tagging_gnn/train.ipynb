{
 "cells": [
  {
   "cell_type": "code",
   "execution_count": 1,
   "metadata": {},
   "outputs": [],
   "source": [
    "import glob\n",
    "\n",
    "import numpy as np\n",
    "\n",
    "import torch\n",
    "import torch.nn as nn\n",
    "from torch_geometric.loader import DataLoader\n",
    "\n",
    "from itertools import cycle\n",
    "from sklearn.metrics import roc_curve, auc\n",
    "\n",
    "%matplotlib inline\n",
    "\n",
    "import matplotlib\n",
    "import matplotlib.pyplot as plt\n",
    "import matplotlib.colors as mcolors\n",
    "import mplhep as hep\n",
    "\n",
    "plt.style.use(hep.style.CMS)\n",
    "plt.rcParams.update({'font.size': 20})\n",
    "\n",
    "from tqdm.notebook import tqdm\n",
    "\n",
    "from torch_geometric.explain import Explainer, GNNExplainer\n",
    "\n",
    "import xai4hep"
   ]
  },
  {
   "cell_type": "markdown",
   "metadata": {},
   "source": [
    "# Get dataset"
   ]
  },
  {
   "cell_type": "code",
   "execution_count": 5,
   "metadata": {},
   "outputs": [
    {
     "name": "stdout",
     "output_type": "stream",
     "text": [
      "--- loaded file 0 from `test` directory\n",
      "--- loaded file 0 from `val` directory\n"
     ]
    }
   ],
   "source": [
    "# load the datafiles\n",
    "def load_data(dataset_path, flag, n_files=-1):\n",
    "    data_files = glob.glob(f\"{dataset_path}/{flag}/processed/*\")\n",
    "\n",
    "    data = []\n",
    "    for i, file in enumerate(data_files):\n",
    "        data += torch.load(f\"{dataset_path}/{flag}/processed/data_{i}.pt\")\n",
    "        print(f\"--- loaded file {i} from `{flag}` directory\")\n",
    "        if n_files != -1 and i == n_files - 1:\n",
    "            break\n",
    "\n",
    "    return data\n",
    "\n",
    "\n",
    "dataset_path = \"/xai4hepvol/atlas/\"\n",
    "\n",
    "test_dataset = load_data(dataset_path, \"test\", n_files=1)  # use test directory because it contains subjet info\n",
    "val_dataset = load_data(dataset_path, \"val\", n_files=1)"
   ]
  },
  {
   "cell_type": "markdown",
   "metadata": {},
   "source": [
    "## Explore dataset"
   ]
  },
  {
   "cell_type": "code",
   "execution_count": 3,
   "metadata": {},
   "outputs": [
    {
     "data": {
      "text/plain": [
       "[Data(x=[17, 7], y=0, px=[17], py=[17], pz=[17], E=[17]),\n",
       " Data(x=[61, 7], y=0, px=[61], py=[61], pz=[61], E=[61]),\n",
       " Data(x=[45, 7], y=0, px=[45], py=[45], pz=[45], E=[45]),\n",
       " Data(x=[74, 7], y=0, px=[74], py=[74], pz=[74], E=[74]),\n",
       " Data(x=[30, 7], y=0, px=[30], py=[30], pz=[30], E=[30]),\n",
       " Data(x=[37, 7], y=0, px=[37], py=[37], pz=[37], E=[37]),\n",
       " Data(x=[79, 7], y=0, px=[79], py=[79], pz=[79], E=[79]),\n",
       " Data(x=[41, 7], y=0, px=[41], py=[41], pz=[41], E=[41]),\n",
       " Data(x=[92, 7], y=0, px=[92], py=[92], pz=[92], E=[92]),\n",
       " Data(x=[17, 7], y=0, px=[17], py=[17], pz=[17], E=[17])]"
      ]
     },
     "execution_count": 3,
     "metadata": {},
     "output_type": "execute_result"
    }
   ],
   "source": [
    "test_dataset[:10]"
   ]
  },
  {
   "cell_type": "code",
   "execution_count": 14,
   "metadata": {},
   "outputs": [
    {
     "data": {
      "text/plain": [
       "tensor([[-1.9442e-02,  9.3275e-02,  5.3207e+00,  5.3862e+00, -1.0834e+00,\n",
       "         -1.0833e+00,  9.5280e-02],\n",
       "        [ 5.8873e-03, -3.4971e-02,  4.9779e+00,  5.0347e+00, -1.4262e+00,\n",
       "         -1.4347e+00,  3.5463e-02],\n",
       "        [ 2.7067e-02, -2.2574e-02,  4.2899e+00,  4.3400e+00, -2.1142e+00,\n",
       "         -2.1295e+00,  3.5245e-02],\n",
       "        [ 3.8218e-02, -2.3472e-02,  4.1150e+00,  4.1617e+00, -2.2891e+00,\n",
       "         -2.3078e+00,  4.4851e-02],\n",
       "        [-5.3362e-03, -3.5016e-02,  3.9994e+00,  4.0600e+00, -2.4047e+00,\n",
       "         -2.4095e+00,  3.5420e-02],\n",
       "        [ 1.7531e-02, -2.8692e-02,  3.5385e+00,  3.5916e+00, -2.8656e+00,\n",
       "         -2.8778e+00,  3.3624e-02],\n",
       "        [ 2.0561e-01, -6.5708e-01,  2.3877e+00,  2.3976e+00, -4.0164e+00,\n",
       "         -4.0719e+00,  6.8849e-01],\n",
       "        [-8.0407e-02, -2.2516e-02,  1.5615e+00,  1.6500e+00, -4.8426e+00,\n",
       "         -4.8195e+00,  8.3500e-02],\n",
       "        [-9.8348e-02, -6.3129e-02,  1.5044e+00,  1.6002e+00, -4.8997e+00,\n",
       "         -4.8693e+00,  1.1687e-01],\n",
       "        [ 1.0322e-02,  4.4438e-02,  1.4010e+00,  1.4564e+00, -5.0031e+00,\n",
       "         -5.0130e+00,  4.5621e-02],\n",
       "        [ 1.0880e-01, -8.5888e-02,  1.3069e+00,  1.3349e+00, -5.0971e+00,\n",
       "         -5.1346e+00,  1.3861e-01],\n",
       "        [-2.1941e-01, -1.2614e-01,  5.3640e-01,  6.8860e-01, -5.8677e+00,\n",
       "         -5.7809e+00,  2.5308e-01],\n",
       "        [ 4.0096e-02, -3.6852e-02,  4.8631e-01,  5.3251e-01, -5.9178e+00,\n",
       "         -5.9370e+00,  5.4459e-02],\n",
       "        [-3.4133e-01, -5.3426e-01,  4.0610e-01,  6.2600e-01, -5.9980e+00,\n",
       "         -5.8435e+00,  6.3399e-01],\n",
       "        [-4.3246e-01,  1.9169e-01,  3.5553e-03,  2.8040e-01, -6.4005e+00,\n",
       "         -6.1891e+00,  4.7305e-01],\n",
       "        [-5.7424e-01, -2.0188e-01, -9.1176e-02,  2.8354e-01, -6.4953e+00,\n",
       "         -6.1859e+00,  6.0870e-01],\n",
       "        [-1.2078e-01,  5.0740e-01, -8.0296e-01, -6.9759e-01, -7.2071e+00,\n",
       "         -7.1671e+00,  5.2158e-01]])"
      ]
     },
     "execution_count": 14,
     "metadata": {},
     "output_type": "execute_result"
    }
   ],
   "source": [
    "test_dataset[0].x"
   ]
  },
  {
   "cell_type": "code",
   "execution_count": 6,
   "metadata": {},
   "outputs": [],
   "source": [
    "test_loader = DataLoader(test_dataset, batch_size=32)\n",
    "val_loader =  DataLoader(val_dataset, batch_size=32)"
   ]
  },
  {
   "cell_type": "markdown",
   "metadata": {},
   "source": [
    "# Get model"
   ]
  },
  {
   "cell_type": "code",
   "execution_count": 7,
   "metadata": {},
   "outputs": [
    {
     "data": {
      "text/plain": [
       "ParticleNet(\n",
       "  (edge_conv_block): EdgeConvBlock(\n",
       "    (edge_conv): EdgeConv(nn=Sequential(\n",
       "      (0): Linear(in_features=14, out_features=256, bias=True)\n",
       "      (1): BatchNorm1d(256, eps=1e-05, momentum=0.1, affine=True, track_running_stats=True)\n",
       "      (2): ReLU()\n",
       "      (3): Linear(in_features=256, out_features=256, bias=True)\n",
       "      (4): BatchNorm1d(256, eps=1e-05, momentum=0.1, affine=True, track_running_stats=True)\n",
       "      (5): ReLU()\n",
       "      (6): Linear(in_features=256, out_features=256, bias=True)\n",
       "      (7): BatchNorm1d(256, eps=1e-05, momentum=0.1, affine=True, track_running_stats=True)\n",
       "      (8): ReLU()\n",
       "      (9): Linear(in_features=256, out_features=256, bias=True)\n",
       "      (10): BatchNorm1d(256, eps=1e-05, momentum=0.1, affine=True, track_running_stats=True)\n",
       "      (11): ReLU()\n",
       "    ))\n",
       "  )\n",
       "  (fc1): Linear(in_features=263, out_features=256, bias=True)\n",
       "  (fc2): Linear(in_features=256, out_features=1, bias=True)\n",
       "  (sig): Sigmoid()\n",
       ")"
      ]
     },
     "execution_count": 7,
     "metadata": {},
     "output_type": "execute_result"
    }
   ],
   "source": [
    "# the actual particlenet model can be imported via `xai4hep.particlenet import ParticleNet`\n",
    "# the model is below is a simplified one\n",
    "\n",
    "import torch.nn.functional as F\n",
    "from torch import Tensor\n",
    "from torch_cluster import knn_graph\n",
    "from torch_geometric.nn import global_mean_pool\n",
    "from torch_geometric.nn.conv import MessagePassing, EdgeConv\n",
    "from torch_geometric.typing import Adj, PairTensor\n",
    "\n",
    "\n",
    "class EdgeConvBlock(nn.Module):\n",
    "    def __init__(self, in_size, layer_size, depth):\n",
    "        super(EdgeConvBlock, self).__init__()\n",
    "\n",
    "        layers = []\n",
    "\n",
    "        layers.append(nn.Linear(in_size * 2, layer_size))\n",
    "        layers.append(nn.BatchNorm1d(layer_size))\n",
    "        layers.append(nn.ReLU())\n",
    "\n",
    "        for i in range(depth):\n",
    "            layers.append(nn.Linear(layer_size, layer_size))\n",
    "            layers.append(nn.BatchNorm1d(layer_size))\n",
    "            layers.append(nn.ReLU())\n",
    "\n",
    "        self.edge_conv = EdgeConv(nn.Sequential(*layers), aggr=\"mean\")\n",
    "\n",
    "    def forward(self, x, edge_index):\n",
    "        return self.edge_conv(x, edge_index)\n",
    "\n",
    "\n",
    "class ParticleNet(nn.Module):\n",
    "    def __init__(\n",
    "        self,\n",
    "        node_feat_size,\n",
    "        num_classes=1,\n",
    "        depth=1,\n",
    "    ):\n",
    "        super(ParticleNet, self).__init__()\n",
    "\n",
    "        self.node_feat_size = node_feat_size\n",
    "        self.num_classes = num_classes\n",
    "\n",
    "        self.fc_size = 256\n",
    "\n",
    "        # define the edgeconvblocks\n",
    "        self.edge_conv_block = EdgeConvBlock(node_feat_size, 256, depth=depth)\n",
    "\n",
    "        # define the fully connected networks (post-edgeconvs)\n",
    "        self.fc1 = nn.Linear(node_feat_size + 256, self.fc_size)\n",
    "        self.fc2 = nn.Linear(self.fc_size, self.num_classes)\n",
    "\n",
    "        self.sig = nn.Sigmoid()\n",
    "\n",
    "    def forward(self, x, edge_index, batch=None):\n",
    "        # input transformations\n",
    "        x[:, 2] = (x[:, 2] - 1.7) * 0.7  # part_pt_log\n",
    "        x[:, 3] = (x[:, 3] - 2.0) * 0.7  # part_e_log\n",
    "        x[:, 4] = (x[:, 4] + 4.7) * 0.7  # part_logptrel\n",
    "        x[:, 5] = (x[:, 5] + 4.7) * 0.7  # part_logerel\n",
    "        x[:, 6] = (x[:, 6] - 0.2) * 4.7  # part_deltaR\n",
    "\n",
    "        # useful placeholders for LRP studies\n",
    "        out = self.edge_conv_block(x, edge_index)\n",
    "        x = torch.cat((out, x), dim=1)  # concatenating with latent features i.e. skip connections per EdgeConvBlock\n",
    "\n",
    "        if batch is None:\n",
    "            x = x.sum(axis=0)\n",
    "        else:\n",
    "            x = global_mean_pool(x, batch)\n",
    "\n",
    "        x = F.relu(self.fc1(x))\n",
    "        x = self.fc2(x)\n",
    "        x = self.sig(x)\n",
    "\n",
    "        return x\n",
    "\n",
    "\n",
    "# setup the input/output dimension of the model\n",
    "k = 12\n",
    "\n",
    "model_kwargs = {\n",
    "    \"node_feat_size\": 7,\n",
    "    \"num_classes\": 1,\n",
    "    \"depth\": 3,\n",
    "}\n",
    "\n",
    "model = ParticleNet(**model_kwargs)\n",
    "model.train()"
   ]
  },
  {
   "cell_type": "code",
   "execution_count": 22,
   "metadata": {
    "scrolled": true
   },
   "outputs": [
    {
     "name": "stdout",
     "output_type": "stream",
     "text": [
      "loss on batch 0: 0.4000804126262665\n",
      "loss on batch 10: 0.268179327249527\n",
      "loss on batch 20: 0.41451072692871094\n",
      "loss on batch 30: 0.3621196150779724\n",
      "loss on batch 40: 0.44824862480163574\n",
      "loss on batch 50: 0.31771305203437805\n",
      "loss on batch 60: 0.1868802011013031\n",
      "loss on batch 70: 0.4669205844402313\n",
      "loss on batch 80: 0.7566356658935547\n",
      "loss on batch 90: 0.4953877925872803\n",
      "loss on batch 100: 0.9162835478782654\n"
     ]
    }
   ],
   "source": [
    "# train the model\n",
    "def train(loader, model, idx=100):\n",
    "    criterion = nn.BCELoss()\n",
    "    optimizer = torch.optim.Adam(model.parameters(), lr=1e-3)\n",
    "\n",
    "    for i, batch in enumerate(loader):\n",
    "        edge_index = knn_graph(batch.x[:, :2], k, batch.batch)\n",
    "\n",
    "        preds = model(batch.x, edge_index, batch.batch)\n",
    "\n",
    "        # compute the invariance loss which is contrained by the other loss terms\n",
    "        loss = criterion(preds, batch.y.unsqueeze(-1).float())\n",
    "\n",
    "        # backprop\n",
    "        for param in model.parameters():\n",
    "            param.grad = None\n",
    "        loss.backward()\n",
    "        optimizer.step()\n",
    "\n",
    "        optimizer.step()\n",
    "        if i % 10 == 0: print(f\"loss on batch {i}: {loss.detach()}\")\n",
    "\n",
    "        if i == idx:\n",
    "            break\n",
    "\n",
    "\n",
    "train(val_loader, model, idx=100)"
   ]
  },
  {
   "cell_type": "code",
   "execution_count": 23,
   "metadata": {},
   "outputs": [
    {
     "data": {
      "text/plain": [
       "271105"
      ]
     },
     "execution_count": 23,
     "metadata": {},
     "output_type": "execute_result"
    }
   ],
   "source": [
    "def count_parameters(model):\n",
    "    return sum(p.numel() for p in model.parameters() if p.requires_grad)\n",
    "\n",
    "count_parameters(model)"
   ]
  },
  {
   "cell_type": "code",
   "execution_count": 24,
   "metadata": {
    "scrolled": false
   },
   "outputs": [
    {
     "data": {
      "image/png": "[encoded data removed]",
      "text/plain": [
       "<Figure size 700x600 with 1 Axes>"
      ]
     },
     "metadata": {},
     "output_type": "display_data"
    }
   ],
   "source": [
    "# test\n",
    "targets_ = []\n",
    "preds_ = []\n",
    "for i, batch in enumerate(test_loader):\n",
    "    edge_index = knn_graph(batch.x[:, :2], k)\n",
    "\n",
    "    preds_ += model(batch.x, edge_index, batch.batch).tolist()\n",
    "    targets_ += batch.y.tolist()\n",
    "\n",
    "    if i == 100:\n",
    "        break\n",
    "\n",
    "fig, ax = plt.subplots(figsize=[7, 6])\n",
    "\n",
    "fpr, tpr, _ = roc_curve(targets_, preds_)\n",
    "ax.plot(\n",
    "    tpr,\n",
    "    fpr,\n",
    "    color=\"darkorange\",\n",
    "    lw=2,\n",
    "    label=f\"PN: AUC = {round(auc(fpr, tpr)*100,2)}%\",\n",
    ")\n",
    "\n",
    "plt.xlim([0.0, 1.0])\n",
    "plt.ylim([1e-3, 1.0])\n",
    "plt.ylabel(\"False positive rate\")\n",
    "plt.xlabel(\"True positive rate\")\n",
    "plt.yscale(\"log\")\n",
    "plt.legend()\n",
    "plt.show()"
   ]
  },
  {
   "cell_type": "markdown",
   "metadata": {},
   "source": [
    "## Real training"
   ]
  },
  {
   "cell_type": "code",
   "execution_count": 33,
   "metadata": {},
   "outputs": [
    {
     "name": "stdout",
     "output_type": "stream",
     "text": [
      "Device 0: NVIDIA GeForce GTX 1080 Ti\n",
      "ParticleNet(\n",
      "  (edge_conv_blocks): ModuleList(\n",
      "    (0): EdgeConvBlock(\n",
      "      (edge_conv): EdgeConv_lrp(nn=Sequential(\n",
      "        (0): Linear(in_features=14, out_features=64, bias=True)\n",
      "        (1): BatchNorm1d(64, eps=1e-05, momentum=0.1, affine=True, track_running_stats=True)\n",
      "        (2): ReLU()\n",
      "        (3): Linear(in_features=64, out_features=64, bias=True)\n",
      "        (4): BatchNorm1d(64, eps=1e-05, momentum=0.1, affine=True, track_running_stats=True)\n",
      "        (5): ReLU()\n",
      "      ))\n",
      "    )\n",
      "    (1): EdgeConvBlock(\n",
      "      (edge_conv): EdgeConv_lrp(nn=Sequential(\n",
      "        (0): Linear(in_features=142, out_features=128, bias=True)\n",
      "        (1): BatchNorm1d(128, eps=1e-05, momentum=0.1, affine=True, track_running_stats=True)\n",
      "        (2): ReLU()\n",
      "        (3): Linear(in_features=128, out_features=128, bias=True)\n",
      "        (4): BatchNorm1d(128, eps=1e-05, momentum=0.1, affine=True, track_running_stats=True)\n",
      "        (5): ReLU()\n",
      "      ))\n",
      "    )\n",
      "    (2): EdgeConvBlock(\n",
      "      (edge_conv): EdgeConv_lrp(nn=Sequential(\n",
      "        (0): Linear(in_features=398, out_features=256, bias=True)\n",
      "        (1): BatchNorm1d(256, eps=1e-05, momentum=0.1, affine=True, track_running_stats=True)\n",
      "        (2): ReLU()\n",
      "        (3): Linear(in_features=256, out_features=256, bias=True)\n",
      "        (4): BatchNorm1d(256, eps=1e-05, momentum=0.1, affine=True, track_running_stats=True)\n",
      "        (5): ReLU()\n",
      "      ))\n",
      "    )\n",
      "  )\n",
      "  (fc1): Linear(in_features=455, out_features=256, bias=True)\n",
      "  (fc2): Linear(in_features=256, out_features=1, bias=True)\n",
      "  (sig): Sigmoid()\n",
      ")\n",
      "Model prefix: ParticleNet_model\n",
      "- loading datafiles for training...\n",
      "--- loading only 1000 events for quick train\n",
      "--- loading only 1000 events for quick val\n",
      "- training over 3 epochs\n",
      "---->Initiating a training run\n",
      "Average inference time per batch is 0.084s\n",
      "---->Initiating a validation run\n",
      "Average inference time per batch is 0.034s\n",
      "epoch=1 / 3 train_loss=0.7211 valid_loss=0.6969 stale=0 time=0.02m eta=0.0m\n",
      "----------------------------------------------------------\n",
      "---->Initiating a training run\n",
      "Average inference time per batch is 0.036s\n",
      "---->Initiating a validation run\n",
      "Average inference time per batch is 0.034s\n",
      "epoch=2 / 3 train_loss=0.6827 valid_loss=0.6465 stale=0 time=0.02m eta=0.0m\n",
      "----------------------------------------------------------\n",
      "---->Initiating a training run\n",
      "Average inference time per batch is 0.036s\n",
      "---->Initiating a validation run\n",
      "Average inference time per batch is 0.034s\n",
      "epoch=3 / 3 train_loss=0.6596 valid_loss=0.6191 stale=0 time=0.02m eta=0.0m\n",
      "----------------------------------------------------------\n",
      "Done with training. Total training time is 0.069min\n",
      "- loading datafiles for testing...\n",
      "--- loading only 1000 events for quick test\n",
      "- making predictions\n",
      "- saving predictions\n",
      "- making Roc curves\n"
     ]
    }
   ],
   "source": [
    "! python -m xai4hep.particlenet.run_training --quick --model_prefix=ParticleNet_model --dataset /xai4hepvol/atlas --outpath $PWD/experiments"
   ]
  },
  {
   "cell_type": "markdown",
   "metadata": {},
   "source": [
    "## Calculate LRP scores"
   ]
  },
  {
   "cell_type": "code",
   "execution_count": 34,
   "metadata": {},
   "outputs": [
    {
     "name": "stdout",
     "output_type": "stream",
     "text": [
      "Will use GPU model: NVIDIA GeForce GTX 1080 Ti\n",
      "Runing the LRP pipeline to compute the Rscores for the model at epoch -1\n",
      "- loading datafiles for lrp studies...\n",
      "--- loading only 1000 events for quick test\n",
      "ParticleNet(\n",
      "  (edge_conv_blocks): ModuleList(\n",
      "    (0): EdgeConvBlock(\n",
      "      (edge_conv): EdgeConv_lrp(nn=Sequential(\n",
      "        (0): Linear(in_features=14, out_features=64, bias=True)\n",
      "        (1): BatchNorm1d(64, eps=1e-05, momentum=0.1, affine=True, track_running_stats=True)\n",
      "        (2): ReLU()\n",
      "        (3): Linear(in_features=64, out_features=64, bias=True)\n",
      "        (4): BatchNorm1d(64, eps=1e-05, momentum=0.1, affine=True, track_running_stats=True)\n",
      "        (5): ReLU()\n",
      "      ))\n",
      "    )\n",
      "    (1): EdgeConvBlock(\n",
      "      (edge_conv): EdgeConv_lrp(nn=Sequential(\n",
      "        (0): Linear(in_features=142, out_features=128, bias=True)\n",
      "        (1): BatchNorm1d(128, eps=1e-05, momentum=0.1, affine=True, track_running_stats=True)\n",
      "        (2): ReLU()\n",
      "        (3): Linear(in_features=128, out_features=128, bias=True)\n",
      "        (4): BatchNorm1d(128, eps=1e-05, momentum=0.1, affine=True, track_running_stats=True)\n",
      "        (5): ReLU()\n",
      "      ))\n",
      "    )\n",
      "    (2): EdgeConvBlock(\n",
      "      (edge_conv): EdgeConv_lrp(nn=Sequential(\n",
      "        (0): Linear(in_features=398, out_features=256, bias=True)\n",
      "        (1): BatchNorm1d(256, eps=1e-05, momentum=0.1, affine=True, track_running_stats=True)\n",
      "        (2): ReLU()\n",
      "        (3): Linear(in_features=256, out_features=256, bias=True)\n",
      "        (4): BatchNorm1d(256, eps=1e-05, momentum=0.1, affine=True, track_running_stats=True)\n",
      "        (5): ReLU()\n",
      "      ))\n",
      "    )\n",
      "  )\n",
      "  (fc1): Linear(in_features=455, out_features=256, bias=True)\n",
      "  (fc2): Linear(in_features=256, out_features=1, bias=True)\n",
      "  (sig): Sigmoid()\n",
      ")\n",
      "Explaining jet # 0: DataBatch(x=[38, 7], y=[1], px=[38], py=[38], pz=[38], E=[38], batch=[38], ptr=[2])\n",
      "Sum of R_scores of the output: 0.0577\n",
      "R_scores after 'fc2' layer: 0.0577\n",
      "R_scores after 'fc1' layer: 0.0577\n",
      "R_scores after global_pooling 0.0577\n",
      "R_scores after EdgeConv # 2: 0.0577\n",
      "R_scores after EdgeConv # 1: 0.0581\n",
      "R_scores after EdgeConv # 0: 3.0\n",
      "------------------------------------------------------\n",
      "Explaining jet # 1: DataBatch(x=[36, 7], y=[1], px=[36], py=[36], pz=[36], E=[36], batch=[36], ptr=[2])\n",
      "Sum of R_scores of the output: 0.0265\n",
      "R_scores after 'fc2' layer: 0.0265\n",
      "R_scores after 'fc1' layer: 0.0265\n",
      "R_scores after global_pooling 0.0265\n",
      "R_scores after EdgeConv # 2: 0.0265\n",
      "R_scores after EdgeConv # 1: 0.0265\n",
      "R_scores after EdgeConv # 0: 0.0265\n",
      "------------------------------------------------------\n",
      "Explaining jet # 2: DataBatch(x=[44, 7], y=[1], px=[44], py=[44], pz=[44], E=[44], batch=[44], ptr=[2])\n",
      "Sum of R_scores of the output: 0.0681\n",
      "R_scores after 'fc2' layer: 0.0681\n",
      "R_scores after 'fc1' layer: 0.0681\n",
      "R_scores after global_pooling 0.0681\n",
      "R_scores after EdgeConv # 2: 0.0681\n",
      "R_scores after EdgeConv # 1: 0.0681\n",
      "R_scores after EdgeConv # 0: 0.0781\n",
      "------------------------------------------------------\n",
      "Explaining jet # 3: DataBatch(x=[40, 7], y=[1], px=[40], py=[40], pz=[40], E=[40], batch=[40], ptr=[2])\n",
      "Sum of R_scores of the output: 0.3161\n",
      "R_scores after 'fc2' layer: 0.3161\n",
      "R_scores after 'fc1' layer: 0.3161\n",
      "R_scores after global_pooling 0.3161\n",
      "R_scores after EdgeConv # 2: 0.3161\n",
      "R_scores after EdgeConv # 1: 0.3153\n",
      "R_scores after EdgeConv # 0: 13.4062\n",
      "------------------------------------------------------\n",
      "Explaining jet # 4: DataBatch(x=[73, 7], y=[1], px=[73], py=[73], pz=[73], E=[73], batch=[73], ptr=[2])\n",
      "Sum of R_scores of the output: 0.5517\n",
      "R_scores after 'fc2' layer: 0.5517\n",
      "R_scores after 'fc1' layer: 0.5517\n",
      "R_scores after global_pooling 0.5517\n",
      "R_scores after EdgeConv # 2: 0.5522\n",
      "R_scores after EdgeConv # 1: 0.5391\n",
      "R_scores after EdgeConv # 0: -4.0\n",
      "------------------------------------------------------\n",
      "Finished computing the Rscores for the model at epoch -1\n",
      "Computing the deltaR and invariant mass distributions of the most relevant edges at epoch -1\n",
      "- saved the plot as /home/jovyan/work/lbnl-2023/top_tagging_gnn/experiments/ParticleNet_model/xai/dr_plots/dr_best.pdf\n",
      "- saved the plot as /home/jovyan/work/lbnl-2023/top_tagging_gnn/experiments/ParticleNet_model/xai/Mij_plots/Mij_best.pdf\n",
      "Computing the fraction of relevant edges connecting different subjets for the model at epoch -1\n",
      "Total # of jets is 5\n",
      "- Declustering jet # 0 using CA algorithm\n",
      "#--------------------------------------------------------------------------\n",
      "#                         FastJet release 3.4.1\n",
      "#                 M. Cacciari, G.P. Salam and G. Soyez                  \n",
      "#     A software package for jet finding and analysis at colliders      \n",
      "#                           http://fastjet.fr                           \n",
      "#\t                                                                      \n",
      "# Please cite EPJC72(2012)1896 [arXiv:1111.6097] if you use this package\n",
      "# for scientific work and optionally PLB641(2006)57 [hep-ph/0512210].   \n",
      "#                                                                       \n",
      "# FastJet is provided without warranty under the GNU GPL v2 or higher.  \n",
      "# It uses T. Chan's closest pair algorithm, S. Fortune's Voronoi code,\n",
      "# CGAL and 3rd party plugin jet algorithms. See COPYING file for details.\n",
      "#--------------------------------------------------------------------------\n",
      "- Declustering jet # 1 using CA algorithm\n",
      "- Declustering jet # 2 using CA algorithm\n",
      "- Declustering jet # 3 using CA algorithm\n",
      "- Declustering jet # 4 using CA algorithm\n",
      "saved the plot as /home/jovyan/work/lbnl-2023/top_tagging_gnn/experiments/ParticleNet_model/xai/scaling_up/scaling_up_best.pdf\n"
     ]
    }
   ],
   "source": [
    "! python -m xai4hep.run_lrp_particlenet --quick --model_prefix=ParticleNet_model --run_lrp --make_dr_Mij_plots --scaling_up --dataset /xai4hepvol/atlas --outpath $PWD/experiments"
   ]
  },
  {
   "cell_type": "code",
   "execution_count": null,
   "metadata": {},
   "outputs": [],
   "source": []
  }
 ],
 "metadata": {
  "kernelspec": {
   "display_name": "base",
   "language": "python",
   "name": "python3"
  },
  "language_info": {
   "codemirror_mode": {
    "name": "ipython",
    "version": 3
   },
   "file_extension": ".py",
   "mimetype": "text/x-python",
   "name": "python",
   "nbconvert_exporter": "python",
   "pygments_lexer": "ipython3",
   "version": "3.10.12"
  }
 },
 "nbformat": 4,
 "nbformat_minor": 4
}
